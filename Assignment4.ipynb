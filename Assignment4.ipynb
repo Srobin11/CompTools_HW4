{
 "cells": [
  {
   "cell_type": "code",
   "execution_count": 8,
   "metadata": {},
   "outputs": [
    {
     "data": {
      "image/png": "[encoded data removed]",
      "text/plain": [
       "<Figure size 432x288 with 1 Axes>"
      ]
     },
     "metadata": {
      "needs_background": "light"
     },
     "output_type": "display_data"
    }
   ],
   "source": [
    "##########\n",
    "##### Code to look at the data from the weather station in my (Elizabeth's) back yard\n",
    "##### real-time data available here, if you're interested:\n",
    "##### https://www.wunderground.com/dashboard/pws/KFLGAINE140\n",
    "##########\n",
    "\n",
    "### import necessary libraries\n",
    "# if the ambient_api is not alreayd installed, run this command:\n",
    "# pip install ambient_api\n",
    "from ambient_api.ambientapi import AmbientAPI\n",
    "import time\n",
    "import pandas\n",
    "import matplotlib.dates as mdates\n",
    "import matplotlib.pyplot as plt\n",
    "\n",
    "# this connects with devices associated with my API key\n",
    "# application key is for each developer, API key gives access to my weather station\n",
    "api = AmbientAPI(AMBIENT_ENDPOINT = 'https://api.ambientweather.net/v1/',\n",
    "                AMBIENT_API_KEY = '9b0df062404a403fa4ab650b4019fe9efa75da55fb4f49f99d1c0b08a7825b69',\n",
    "                AMBIENT_APPLICATION_KEY = '6461626a535b439a93d828840b0a392aea18784125504f729e8e6e83b7dcaef4')\n",
    "\n",
    "devices = api.get_devices()\n",
    "\n",
    "device = devices[0] #get the first (and only) device associated with my API key\n",
    "\n",
    "time.sleep(1) #pause for a second to avoid API limits\n",
    "\n",
    "data = device.get_data()\n",
    "\n",
    "df = pandas.DataFrame(data)\n",
    "\n",
    "#convert UTC time to local time\n",
    "df['localtime']=pandas.to_datetime(df['dateutc'], unit='ms').dt.tz_localize('UTC').dt.tz_convert('US/Eastern')\n",
    "\n",
    "#set up plot to look at the solar irradiation over the last 24 hrs\n",
    "plt.figure()\n",
    "ax = plt.gca()\n",
    "ax.xaxis.set_major_locator(mdates.HourLocator(interval=4))\n",
    "ax.xaxis.set_major_formatter(mdates.DateFormatter('%H:%M'))\n",
    "ax.plot(df['localtime'],df['solarradiation'], color='m')\n",
    "plt.ylabel('Solar irradiation (W/m\\u00b2)')\n",
    "plt.xlabel('Hour')\n",
    "plt.show()"
   ]
  },
  {
   "cell_type": "code",
   "execution_count": null,
   "metadata": {},
   "outputs": [],
   "source": [
    "#### PS4 Name:Moni Qiande\n",
    "\n",
    "import urllib.request\n",
    "import json\n",
    "from PIL import Image\n",
    "import requests\n",
    "import matplotlib.pyplot as plt\n",
    "\n",
    "user_agent = 'Mozilla/5.0 (Windows; U; Windows NT 5.1; en-US; rv:1.9.0.7) Gecko/2009021910 Firefox/3.0.7'\n",
    "\n",
    "url = 'https://dog.ceo/api/breeds/image/random'\n",
    "headers = {'User-Agent':user_agent,} \n",
    "\n",
    "request = urllib.request.Request(url,None,headers) #The assembled request\n",
    "response = urllib.request.urlopen(request)\n",
    "data = response.read() # The data u need\n",
    "\n",
    "try:\n",
    "    js = json.loads(data)\n",
    "except:\n",
    "    js = None\n",
    "\n",
    "\n",
    "for key in js.keys():\n",
    "    if key == \"message\":\n",
    "        msg = js[key]\n",
    "        print(js[key])\n",
    "\n",
    "        \n",
    "# show the image\n",
    "response = requests.get(msg, stream=True)\n",
    "img = Image.open(response.raw)\n",
    "\n",
    "plt.imshow(img)\n",
    "plt.axis('off')\n",
    "plt.show()\n",
    "\n",
    "\n",
    "# download the image\n",
    "from urllib.request import urlretrieve\n",
    "urlretrieve(msg, '.image1.png')\n",
    "\n",
    "#test"
   ]
  },
  {
   "cell_type": "code",
   "execution_count": null,
   "metadata": {},
   "outputs": [],
   "source": []
  }
 ],
 "metadata": {
  "kernelspec": {
   "display_name": "Python 3.8 (full)",
   "language": "python",
   "name": "python3-3.8-ufrc"
  },
  "language_info": {
   "codemirror_mode": {
    "name": "ipython",
    "version": 3
   },
   "file_extension": ".py",
   "mimetype": "text/x-python",
   "name": "python",
   "nbconvert_exporter": "python",
   "pygments_lexer": "ipython3",
   "version": "3.8.5"
  }
 },
 "nbformat": 4,
 "nbformat_minor": 4
}
